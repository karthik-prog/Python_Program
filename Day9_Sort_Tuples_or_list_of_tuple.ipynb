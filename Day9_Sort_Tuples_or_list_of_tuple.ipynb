{
 "cells": [
  {
   "cell_type": "code",
   "execution_count": 4,
   "metadata": {},
   "outputs": [
    {
     "name": "stdout",
     "output_type": "stream",
     "text": [
      "(('c', 19), ('a', 32), ('d', 43), ('b', 54))\n"
     ]
    }
   ],
   "source": [
    "y=(('a',32),('b',54),('c',19),('d',43))\n",
    "x=sorted(y,key= lambda x:x[1])\n",
    "print(tuple(x))"
   ]
  },
  {
   "cell_type": "code",
   "execution_count": 5,
   "metadata": {},
   "outputs": [
    {
     "name": "stdout",
     "output_type": "stream",
     "text": [
      "[('c', 19), ('a', 32), ('d', 43), ('b', 54)]\n"
     ]
    }
   ],
   "source": [
    "y=[('a',32),('b',54),('c',19),('d',43)]\n",
    "x=sorted(y,key= lambda x:x[1])\n",
    "print(x)"
   ]
  }
 ],
 "metadata": {
  "kernelspec": {
   "display_name": "Python 3",
   "language": "python",
   "name": "python3"
  },
  "language_info": {
   "codemirror_mode": {
    "name": "ipython",
    "version": 3
   },
   "file_extension": ".py",
   "mimetype": "text/x-python",
   "name": "python",
   "nbconvert_exporter": "python",
   "pygments_lexer": "ipython3",
   "version": "3.8.5"
  }
 },
 "nbformat": 4,
 "nbformat_minor": 4
}
