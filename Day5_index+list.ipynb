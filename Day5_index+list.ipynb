{
 "cells": [
  {
   "cell_type": "code",
   "execution_count": 4,
   "metadata": {},
   "outputs": [
    {
     "name": "stdout",
     "output_type": "stream",
     "text": [
      "['Welcome', 'to', 'Python', 'World']\n"
     ]
    }
   ],
   "source": [
    "l1=[\"Wel\",\"t\",\"Py\",\"Wor\"]\n",
    "l2=[\"come\",\"o\",\"thon\",\"ld\"]\n",
    "o=[]\n",
    "for i in range(0,len(l1)):\n",
    "    o.append(l1[i]+l2[i])\n",
    "print(o)"
   ]
  }
 ],
 "metadata": {
  "kernelspec": {
   "display_name": "Python 3",
   "language": "python",
   "name": "python3"
  },
  "language_info": {
   "codemirror_mode": {
    "name": "ipython",
    "version": 3
   },
   "file_extension": ".py",
   "mimetype": "text/x-python",
   "name": "python",
   "nbconvert_exporter": "python",
   "pygments_lexer": "ipython3",
   "version": "3.8.5"
  }
 },
 "nbformat": 4,
 "nbformat_minor": 4
}
