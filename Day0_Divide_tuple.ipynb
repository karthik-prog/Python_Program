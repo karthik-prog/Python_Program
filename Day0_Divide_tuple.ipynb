{
 "cells": [
  {
   "cell_type": "code",
   "execution_count": 5,
   "metadata": {},
   "outputs": [
    {
     "name": "stdout",
     "output_type": "stream",
     "text": [
      "('a', 'b', 'c', 'd', 'e')\n",
      "(6, 7, 8, 9, 10)\n"
     ]
    }
   ],
   "source": [
    "l=('a','b','c','d','e',6,7,8,9,10)\n",
    "l1=[]\n",
    "l2=[]\n",
    "for i in range(int(len(l)/2)):\n",
    "    l1.append(l[i])\n",
    "for i in range(int(len(l)/2),len(l)):\n",
    "    l2.append(l[i])\n",
    "print(tuple(l1))\n",
    "print(tuple(l2))"
   ]
  }
 ],
 "metadata": {
  "kernelspec": {
   "display_name": "Python 3",
   "language": "python",
   "name": "python3"
  },
  "language_info": {
   "codemirror_mode": {
    "name": "ipython",
    "version": 3
   },
   "file_extension": ".py",
   "mimetype": "text/x-python",
   "name": "python",
   "nbconvert_exporter": "python",
   "pygments_lexer": "ipython3",
   "version": "3.8.5"
  }
 },
 "nbformat": 4,
 "nbformat_minor": 4
}
