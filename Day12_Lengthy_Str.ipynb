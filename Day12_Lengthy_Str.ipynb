{
 "cells": [
  {
   "cell_type": "code",
   "execution_count": 3,
   "metadata": {},
   "outputs": [
    {
     "name": "stdout",
     "output_type": "stream",
     "text": [
      "version3.0\n"
     ]
    }
   ],
   "source": [
    "a=[\"Welcome\",\"To\",\"Python\",\"version3.0\"]\n",
    "x=a[0]\n",
    "y=len(a[0])\n",
    "for i in range(1,len(a)):\n",
    "    if y<len(a[i]):\n",
    "        x=a[i]\n",
    "        y=len(a[i])\n",
    "print(a[i])"
   ]
  },
  {
   "cell_type": "code",
   "execution_count": null,
   "metadata": {},
   "outputs": [],
   "source": []
  }
 ],
 "metadata": {
  "kernelspec": {
   "display_name": "Python 3",
   "language": "python",
   "name": "python3"
  },
  "language_info": {
   "codemirror_mode": {
    "name": "ipython",
    "version": 3
   },
   "file_extension": ".py",
   "mimetype": "text/x-python",
   "name": "python",
   "nbconvert_exporter": "python",
   "pygments_lexer": "ipython3",
   "version": "3.8.5"
  }
 },
 "nbformat": 4,
 "nbformat_minor": 4
}
