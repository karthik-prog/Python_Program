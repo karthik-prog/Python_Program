{
 "cells": [
  {
   "cell_type": "code",
   "execution_count": 1,
   "metadata": {},
   "outputs": [
    {
     "name": "stdout",
     "output_type": "stream",
     "text": [
      "10,20,30,40,50,60,70\n",
      "[10, 20, 30, 40, 50, 60, 70]\n",
      "(10, 20, 30, 40, 50, 60, 70)\n"
     ]
    }
   ],
   "source": [
    "a=str(input())\n",
    "b=0\n",
    "c=[]\n",
    "j=0\n",
    "for i in range(0,len(a)):\n",
    "    if a[i]!=',':\n",
    "        b=b*10\n",
    "        b=b+int(a[i])\n",
    "    else:\n",
    "        j=j+1\n",
    "        c.append(b)\n",
    "        b=0\n",
    "c.append(b)\n",
    "print(c)   \n",
    "print(tuple(c))"
   ]
  }
 ],
 "metadata": {
  "kernelspec": {
   "display_name": "Python 3",
   "language": "python",
   "name": "python3"
  },
  "language_info": {
   "codemirror_mode": {
    "name": "ipython",
    "version": 3
   },
   "file_extension": ".py",
   "mimetype": "text/x-python",
   "name": "python",
   "nbconvert_exporter": "python",
   "pygments_lexer": "ipython3",
   "version": "3.8.5"
  }
 },
 "nbformat": 4,
 "nbformat_minor": 4
}
