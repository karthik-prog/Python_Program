{
 "cells": [
  {
   "cell_type": "code",
   "execution_count": 28,
   "metadata": {},
   "outputs": [
    {
     "name": "stdout",
     "output_type": "stream",
     "text": [
      "{'chennai': 84.2, 'Bangalore': 96.8, 'Hyderabad': 66.2, 'Delhi': 78.80000000000001, 'Mumbai': 89.6}\n"
     ]
    }
   ],
   "source": [
    "x={'chennai':29,'Bangalore':36,'Hyderabad':19,'Delhi':26,'Mumbai':32}\n",
    "z=list(map(lambda y: ((9/5)*y+32),x.values()))\n",
    "j=0\n",
    "d={}\n",
    "for i in x.keys():\n",
    "    d[i]=d.get(i,z[j])\n",
    "    j=j+1\n",
    "print(d)"
   ]
  }
 ],
 "metadata": {
  "kernelspec": {
   "display_name": "Python 3",
   "language": "python",
   "name": "python3"
  },
  "language_info": {
   "codemirror_mode": {
    "name": "ipython",
    "version": 3
   },
   "file_extension": ".py",
   "mimetype": "text/x-python",
   "name": "python",
   "nbconvert_exporter": "python",
   "pygments_lexer": "ipython3",
   "version": "3.8.5"
  }
 },
 "nbformat": 4,
 "nbformat_minor": 4
}
