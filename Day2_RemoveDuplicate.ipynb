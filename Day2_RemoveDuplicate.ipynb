{
 "cells": [
  {
   "cell_type": "code",
   "execution_count": 51,
   "metadata": {},
   "outputs": [
    {
     "name": "stdout",
     "output_type": "stream",
     "text": [
      "[86, 96, 61, 23, 75, 45]\n"
     ]
    }
   ],
   "source": [
    "x=[23,86,45,96,61,23,75,45]\n",
    "y=[]\n",
    "for i in range(len(x)-1):\n",
    "    for j in range(i+1,len(x)):\n",
    "            if(x[i]==x[j]):\n",
    "                y.append(x[i])\n",
    "for i in y:\n",
    "    x.remove(i)\n",
    "print(x)"
   ]
  },
  {
   "cell_type": "code",
   "execution_count": 57,
   "metadata": {},
   "outputs": [
    {
     "name": "stdout",
     "output_type": "stream",
     "text": [
      "[23, 86, 45, 96, 61, 75]\n"
     ]
    }
   ],
   "source": [
    "x=[23,86,45,96,61,23,75,45]\n",
    "y=[]\n",
    "for i in range(len(x)-1):\n",
    "    for j in range(i+1,len(x)):\n",
    "            if(x[i]==x[j]):\n",
    "                y.append(j)\n",
    "for i in reversed(y):\n",
    "    x.pop(i)\n",
    "print(x)"
   ]
  },
  {
   "cell_type": "code",
   "execution_count": 60,
   "metadata": {},
   "outputs": [
    {
     "name": "stdout",
     "output_type": "stream",
     "text": [
      "[23, 86, 45, 96, 61, 75]\n"
     ]
    }
   ],
   "source": [
    "x=[23,86,45,96,61,23,75,45]\n",
    "y=[]\n",
    "for i in x:\n",
    "    if i not in y:\n",
    "        y.append(i)\n",
    "print(y)"
   ]
  },
  {
   "cell_type": "code",
   "execution_count": 62,
   "metadata": {},
   "outputs": [
    {
     "name": "stdout",
     "output_type": "stream",
     "text": [
      "[1, 3, 5, 7, 9, 2, 4, 6, 8]\n"
     ]
    }
   ],
   "source": [
    "l1=[1,3,5,7,9]\n",
    "l2=[1,2,4,6,7,8]\n",
    "l=[]\n",
    "for i in l1:\n",
    "    if i not in l:\n",
    "        l.append(i)\n",
    "for i in l2:\n",
    "    if i not in l:\n",
    "        l.append(i)    \n",
    "print(l)"
   ]
  }
 ],
 "metadata": {
  "kernelspec": {
   "display_name": "Python 3",
   "language": "python",
   "name": "python3"
  },
  "language_info": {
   "codemirror_mode": {
    "name": "ipython",
    "version": 3
   },
   "file_extension": ".py",
   "mimetype": "text/x-python",
   "name": "python",
   "nbconvert_exporter": "python",
   "pygments_lexer": "ipython3",
   "version": "3.8.5"
  }
 },
 "nbformat": 4,
 "nbformat_minor": 4
}
